{
 "cells": [
  {
   "cell_type": "code",
   "execution_count": 1,
   "metadata": {
    "scrolled": false
   },
   "outputs": [
    {
     "name": "stdout",
     "output_type": "stream",
     "text": [
      "Jupyter environment detected. Enabling Open3D WebVisualizer.\n",
      "[Open3D INFO] WebRTC GUI backend enabled.\n",
      "[Open3D INFO] WebRTCWindowSystem: HTTP handshake server disabled.\n"
     ]
    }
   ],
   "source": [
    "import open3d as o3d\n",
    "import numpy as np\n",
    "ply = o3d.io.read_point_cloud('C:/Users/EDY/Desktop/3548_2048/3548_2048/3d_url/ladybug_000009.pcd')\n",
    "viewer = o3d.visualization.Visualizer()\n",
    "viewer.create_window()\n",
    "viewer.add_geometry(ply)\n",
    "opt = viewer.get_render_option()\n",
    "opt.show_coordinate_frame = True\n",
    "opt.background_color = np.asarray([0.5, 0.5, 0.5])\n",
    "viewer.run()\n",
    "viewer.destroy_window()"
   ]
  },
  {
   "cell_type": "code",
   "execution_count": 2,
   "metadata": {
    "pycharm": {
     "name": "#%%\n"
    }
   },
   "outputs": [],
   "source": [
    "# import open3d as o3d\n",
    "import numpy as np\n",
    "img = o3d.io.read_image('C:/Users/EDY/Desktop/3548_2048/3548_2048/3d_img0/ladybug_000009.jpg')\n",
    "o3d.visualization.draw_geometries([img])"
   ]
  },
  {
   "cell_type": "code",
   "execution_count": null,
   "metadata": {},
   "outputs": [],
   "source": []
  },
  {
   "cell_type": "code",
   "execution_count": null,
   "metadata": {},
   "outputs": [],
   "source": []
  }
 ],
 "metadata": {
  "kernelspec": {
   "display_name": "Python 3 (ipykernel)",
   "language": "python",
   "name": "python3"
  },
  "language_info": {
   "codemirror_mode": {
    "name": "ipython",
    "version": 3
   },
   "file_extension": ".py",
   "mimetype": "text/x-python",
   "name": "python",
   "nbconvert_exporter": "python",
   "pygments_lexer": "ipython3",
   "version": "3.9.12"
  }
 },
 "nbformat": 4,
 "nbformat_minor": 1
}