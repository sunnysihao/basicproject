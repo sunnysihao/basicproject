{
 "cells": [
  {
   "cell_type": "code",
   "execution_count": 3,
   "id": "33ebcf72",
   "metadata": {},
   "outputs": [
    {
     "name": "stdout",
     "output_type": "stream",
     "text": [
      "ladybug_000009.jpg\tladybug_000010.jpg\tladybug_000011.jpg\tladybug_000012.jpg\tladybug_000013.jpg\tladybug_000014.jpg\tladybug_000015.jpg\tladybug_000016.jpg\tladybug_000017.jpg\tladybug_000018.jpg\tladybug_000019.jpg\tladybug_000020.jpg\tladybug_000021.jpg\tladybug_000022.jpg\t"
     ]
    }
   ],
   "source": []
  },
  {
   "cell_type": "code",
   "execution_count": null,
   "id": "8713293a",
   "metadata": {},
   "outputs": [],
   "source": [
    "with open(r\"C:\\Users\\EDY\\Desktop\\3548_2048\\3548_2048\\3d_url\\ladybug_000009.txt\") as f:\n",
    "    for ln in f.readlines():\n",
    "        print(ln)"
   ]
  },
  {
   "cell_type": "code",
   "execution_count": null,
   "id": "4714da98",
   "metadata": {},
   "outputs": [],
   "source": []
  },
  {
   "cell_type": "code",
   "execution_count": null,
   "id": "2f2de8e6",
   "metadata": {},
   "outputs": [],
   "source": []
  }
 ],
 "metadata": {
  "kernelspec": {
   "display_name": "Python 3 (ipykernel)",
   "language": "python",
   "name": "python3"
  },
  "language_info": {
   "codemirror_mode": {
    "name": "ipython",
    "version": 3
   },
   "file_extension": ".py",
   "mimetype": "text/x-python",
   "name": "python",
   "nbconvert_exporter": "python",
   "pygments_lexer": "ipython3",
   "version": "3.9.12"
  }
 },
 "nbformat": 4,
 "nbformat_minor": 5
}
